{
 "cells": [
  {
   "cell_type": "code",
   "execution_count": 78,
   "metadata": {},
   "outputs": [],
   "source": [
    "from sklearn import tree\n",
    "from sklearn.ensemble import RandomForestClassifier\n",
    "\n",
    "import pandas as pd\n",
    "\n",
    "import warnings\n",
    "warnings.simplefilter('ignore')"
   ]
  },
  {
   "cell_type": "code",
   "execution_count": 27,
   "metadata": {},
   "outputs": [],
   "source": [
    "df = pd.read_csv('nba_test_stats')"
   ]
  },
  {
   "cell_type": "code",
   "execution_count": 28,
   "metadata": {},
   "outputs": [
    {
     "data": {
      "text/html": [
       "<div>\n",
       "<style scoped>\n",
       "    .dataframe tbody tr th:only-of-type {\n",
       "        vertical-align: middle;\n",
       "    }\n",
       "\n",
       "    .dataframe tbody tr th {\n",
       "        vertical-align: top;\n",
       "    }\n",
       "\n",
       "    .dataframe thead th {\n",
       "        text-align: right;\n",
       "    }\n",
       "</style>\n",
       "<table border=\"1\" class=\"dataframe\">\n",
       "  <thead>\n",
       "    <tr style=\"text-align: right;\">\n",
       "      <th></th>\n",
       "      <th>teamRslt</th>\n",
       "      <th>teamPTS</th>\n",
       "      <th>teamAST</th>\n",
       "      <th>teamTO</th>\n",
       "      <th>teamSTL</th>\n",
       "      <th>teamBLK</th>\n",
       "      <th>teamPF</th>\n",
       "      <th>teamFGA</th>\n",
       "      <th>teamFGM</th>\n",
       "      <th>team2PM</th>\n",
       "      <th>...</th>\n",
       "      <th>opptPTS</th>\n",
       "      <th>opptAST</th>\n",
       "      <th>opptTO</th>\n",
       "      <th>opptSTL</th>\n",
       "      <th>opptBLK</th>\n",
       "      <th>opptPF</th>\n",
       "      <th>opptFGA</th>\n",
       "      <th>opptFGM</th>\n",
       "      <th>oppt2PM</th>\n",
       "      <th>oppt3PM</th>\n",
       "    </tr>\n",
       "  </thead>\n",
       "  <tbody>\n",
       "    <tr>\n",
       "      <th>0</th>\n",
       "      <td>Loss</td>\n",
       "      <td>84</td>\n",
       "      <td>26</td>\n",
       "      <td>13</td>\n",
       "      <td>11</td>\n",
       "      <td>10</td>\n",
       "      <td>19</td>\n",
       "      <td>90</td>\n",
       "      <td>32</td>\n",
       "      <td>24</td>\n",
       "      <td>...</td>\n",
       "      <td>94</td>\n",
       "      <td>22</td>\n",
       "      <td>21</td>\n",
       "      <td>7</td>\n",
       "      <td>5</td>\n",
       "      <td>21</td>\n",
       "      <td>79</td>\n",
       "      <td>36</td>\n",
       "      <td>29</td>\n",
       "      <td>7</td>\n",
       "    </tr>\n",
       "    <tr>\n",
       "      <th>1</th>\n",
       "      <td>Win</td>\n",
       "      <td>94</td>\n",
       "      <td>22</td>\n",
       "      <td>21</td>\n",
       "      <td>7</td>\n",
       "      <td>5</td>\n",
       "      <td>21</td>\n",
       "      <td>79</td>\n",
       "      <td>36</td>\n",
       "      <td>29</td>\n",
       "      <td>...</td>\n",
       "      <td>84</td>\n",
       "      <td>26</td>\n",
       "      <td>13</td>\n",
       "      <td>11</td>\n",
       "      <td>10</td>\n",
       "      <td>19</td>\n",
       "      <td>90</td>\n",
       "      <td>32</td>\n",
       "      <td>24</td>\n",
       "      <td>8</td>\n",
       "    </tr>\n",
       "    <tr>\n",
       "      <th>2</th>\n",
       "      <td>Loss</td>\n",
       "      <td>107</td>\n",
       "      <td>24</td>\n",
       "      <td>16</td>\n",
       "      <td>4</td>\n",
       "      <td>2</td>\n",
       "      <td>23</td>\n",
       "      <td>75</td>\n",
       "      <td>39</td>\n",
       "      <td>33</td>\n",
       "      <td>...</td>\n",
       "      <td>120</td>\n",
       "      <td>25</td>\n",
       "      <td>8</td>\n",
       "      <td>8</td>\n",
       "      <td>5</td>\n",
       "      <td>20</td>\n",
       "      <td>79</td>\n",
       "      <td>43</td>\n",
       "      <td>35</td>\n",
       "      <td>8</td>\n",
       "    </tr>\n",
       "    <tr>\n",
       "      <th>3</th>\n",
       "      <td>Win</td>\n",
       "      <td>120</td>\n",
       "      <td>25</td>\n",
       "      <td>8</td>\n",
       "      <td>8</td>\n",
       "      <td>5</td>\n",
       "      <td>20</td>\n",
       "      <td>79</td>\n",
       "      <td>43</td>\n",
       "      <td>35</td>\n",
       "      <td>...</td>\n",
       "      <td>107</td>\n",
       "      <td>24</td>\n",
       "      <td>16</td>\n",
       "      <td>4</td>\n",
       "      <td>2</td>\n",
       "      <td>23</td>\n",
       "      <td>75</td>\n",
       "      <td>39</td>\n",
       "      <td>33</td>\n",
       "      <td>6</td>\n",
       "    </tr>\n",
       "    <tr>\n",
       "      <th>4</th>\n",
       "      <td>Win</td>\n",
       "      <td>99</td>\n",
       "      <td>22</td>\n",
       "      <td>12</td>\n",
       "      <td>9</td>\n",
       "      <td>5</td>\n",
       "      <td>25</td>\n",
       "      <td>85</td>\n",
       "      <td>40</td>\n",
       "      <td>35</td>\n",
       "      <td>...</td>\n",
       "      <td>91</td>\n",
       "      <td>24</td>\n",
       "      <td>14</td>\n",
       "      <td>6</td>\n",
       "      <td>5</td>\n",
       "      <td>21</td>\n",
       "      <td>77</td>\n",
       "      <td>38</td>\n",
       "      <td>35</td>\n",
       "      <td>3</td>\n",
       "    </tr>\n",
       "  </tbody>\n",
       "</table>\n",
       "<p>5 rows × 21 columns</p>\n",
       "</div>"
      ],
      "text/plain": [
       "  teamRslt  teamPTS  teamAST  teamTO  teamSTL  teamBLK  teamPF  teamFGA  \\\n",
       "0     Loss       84       26      13       11       10      19       90   \n",
       "1      Win       94       22      21        7        5      21       79   \n",
       "2     Loss      107       24      16        4        2      23       75   \n",
       "3      Win      120       25       8        8        5      20       79   \n",
       "4      Win       99       22      12        9        5      25       85   \n",
       "\n",
       "   teamFGM  team2PM   ...     opptPTS  opptAST  opptTO  opptSTL  opptBLK  \\\n",
       "0       32       24   ...          94       22      21        7        5   \n",
       "1       36       29   ...          84       26      13       11       10   \n",
       "2       39       33   ...         120       25       8        8        5   \n",
       "3       43       35   ...         107       24      16        4        2   \n",
       "4       40       35   ...          91       24      14        6        5   \n",
       "\n",
       "   opptPF  opptFGA  opptFGM  oppt2PM  oppt3PM  \n",
       "0      21       79       36       29        7  \n",
       "1      19       90       32       24        8  \n",
       "2      20       79       43       35        8  \n",
       "3      23       75       39       33        6  \n",
       "4      21       77       38       35        3  \n",
       "\n",
       "[5 rows x 21 columns]"
      ]
     },
     "execution_count": 28,
     "metadata": {},
     "output_type": "execute_result"
    }
   ],
   "source": [
    "df.head()"
   ]
  },
  {
   "cell_type": "code",
   "execution_count": 87,
   "metadata": {},
   "outputs": [],
   "source": [
    "from sklearn.preprocessing import LabelEncoder\n",
    "label_encoder = LabelEncoder()\n",
    "\n",
    "X = df[[\"teamAST\", \"teamTO\", \"teamSTL\", \"teamBLK\", \"teamPF\", \"teamFGA\",\n",
    "                        \"team2PM\", \"team3PM\",\"opptAST\", \"opptTO\", \"opptSTL\", \"opptBLK\", \"opptPF\", \"opptFGA\", \n",
    "                        \"oppt2PM\", \"oppt3PM\"]]\n",
    "\n",
    "\n",
    "y = df['teamRslt']\n",
    "label_encoder.fit(y)\n",
    "y_encoded = label_encoder.transform(y)\n"
   ]
  },
  {
   "cell_type": "code",
   "execution_count": 88,
   "metadata": {},
   "outputs": [
    {
     "data": {
      "text/plain": [
       "array([[1., 0.],\n",
       "       [0., 1.],\n",
       "       [1., 0.],\n",
       "       ...,\n",
       "       [0., 1.],\n",
       "       [1., 0.],\n",
       "       [0., 1.]], dtype=float32)"
      ]
     },
     "execution_count": 88,
     "metadata": {},
     "output_type": "execute_result"
    }
   ],
   "source": [
    "from keras.utils import to_categorical\n",
    "\n",
    "one_hot_y = to_categorical(encoded_y)\n",
    "one_hot_y"
   ]
  },
  {
   "cell_type": "code",
   "execution_count": 89,
   "metadata": {},
   "outputs": [],
   "source": [
    "from sklearn.model_selection import train_test_split\n",
    "X_train, X_test, y_train, y_test = train_test_split(X, y_encoded, random_state=42)\n"
   ]
  },
  {
   "cell_type": "code",
   "execution_count": 90,
   "metadata": {},
   "outputs": [
    {
     "data": {
      "text/plain": [
       "0.7097560975609756"
      ]
     },
     "execution_count": 90,
     "metadata": {},
     "output_type": "execute_result"
    }
   ],
   "source": [
    "clf = tree.DecisionTreeClassifier()\n",
    "clf = clf.fit(X_train, y_train)\n",
    "clf.score(X_test, y_test)"
   ]
  },
  {
   "cell_type": "code",
   "execution_count": 91,
   "metadata": {},
   "outputs": [
    {
     "data": {
      "text/plain": [
       "0.8327913279132791"
      ]
     },
     "execution_count": 91,
     "metadata": {},
     "output_type": "execute_result"
    }
   ],
   "source": [
    "rf = RandomForestClassifier(n_estimators=200)\n",
    "rf = rf.fit(X_train, y_train)\n",
    "rf.score(X_test, y_test)"
   ]
  },
  {
   "cell_type": "code",
   "execution_count": 92,
   "metadata": {},
   "outputs": [
    {
     "data": {
      "text/plain": [
       "array([0.10016851, 0.03839192, 0.03753417, 0.04018799, 0.06411708,\n",
       "       0.04925473, 0.08615984, 0.08154469, 0.09685901, 0.03896934,\n",
       "       0.03833171, 0.03946893, 0.063032  , 0.0512767 , 0.08826864,\n",
       "       0.08643476])"
      ]
     },
     "execution_count": 92,
     "metadata": {},
     "output_type": "execute_result"
    }
   ],
   "source": [
    "importances = rf.feature_importances_\n",
    "importances"
   ]
  },
  {
   "cell_type": "code",
   "execution_count": 93,
   "metadata": {},
   "outputs": [
    {
     "data": {
      "text/plain": [
       "[(0.10016851405731744, 'teamAST'),\n",
       " (0.0968590121788127, 'opptAST'),\n",
       " (0.08826863506614899, 'oppt2PM'),\n",
       " (0.0864347561993708, 'oppt3PM'),\n",
       " (0.08615984031304205, 'team2PM'),\n",
       " (0.0815446873772279, 'team3PM'),\n",
       " (0.06411708464370225, 'teamPF'),\n",
       " (0.06303199711808075, 'opptPF'),\n",
       " (0.05127669523991197, 'opptFGA'),\n",
       " (0.0492547256372072, 'teamFGA'),\n",
       " (0.040187985589973926, 'teamBLK'),\n",
       " (0.03946892519227101, 'opptBLK'),\n",
       " (0.038969337855677424, 'opptTO'),\n",
       " (0.03839192340338478, 'teamTO'),\n",
       " (0.038331705687776704, 'opptSTL'),\n",
       " (0.037534174440094006, 'teamSTL')]"
      ]
     },
     "execution_count": 93,
     "metadata": {},
     "output_type": "execute_result"
    }
   ],
   "source": [
    "sorted(zip(rf.feature_importances_, X), reverse=True)"
   ]
  },
  {
   "cell_type": "code",
   "execution_count": null,
   "metadata": {},
   "outputs": [],
   "source": []
  }
 ],
 "metadata": {
  "kernelspec": {
   "display_name": "Python (python36)",
   "language": "python",
   "name": "python36"
  },
  "language_info": {
   "codemirror_mode": {
    "name": "ipython",
    "version": 3
   },
   "file_extension": ".py",
   "mimetype": "text/x-python",
   "name": "python",
   "nbconvert_exporter": "python",
   "pygments_lexer": "ipython3",
   "version": "3.6.5"
  }
 },
 "nbformat": 4,
 "nbformat_minor": 2
}
